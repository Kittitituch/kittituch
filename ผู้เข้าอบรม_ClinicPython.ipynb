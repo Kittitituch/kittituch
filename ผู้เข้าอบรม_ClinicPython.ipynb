{
  "nbformat": 4,
  "nbformat_minor": 0,
  "metadata": {
    "colab": {
      "name": "ผู้เข้าอบรม ClinicPython.ipynb",
      "private_outputs": true,
      "provenance": [],
      "collapsed_sections": [
        "eClqMZhQy1JV",
        "UZ02kC9bklHn",
        "GokaB_PQxnva",
        "p0N9juJC64rF",
        "rN-dFf0Z_Olb"
      ],
      "include_colab_link": true
    },
    "kernelspec": {
      "name": "python3",
      "display_name": "Python 3"
    },
    "language_info": {
      "name": "python"
    }
  },
  "cells": [
    {
      "cell_type": "markdown",
      "metadata": {
        "id": "view-in-github",
        "colab_type": "text"
      },
      "source": [
        "<a href=\"https://colab.research.google.com/github/Kittitituch/kittituch/blob/main/%E0%B8%9C%E0%B8%B9%E0%B9%89%E0%B9%80%E0%B8%82%E0%B9%89%E0%B8%B2%E0%B8%AD%E0%B8%9A%E0%B8%A3%E0%B8%A1_ClinicPython.ipynb\" target=\"_parent\"><img src=\"https://colab.research.google.com/assets/colab-badge.svg\" alt=\"Open In Colab\"/></a>"
      ]
    },
    {
      "cell_type": "code",
      "metadata": {
        "id": "es1lracC-7FE"
      },
      "source": [
        "#พื้นฐานทดสอบการใช้งาน Colab  \n",
        "print(\"สวัสดีครับพลกฤษณ์  รินทรึก  ยินดีต้อนรับสู่คลินิกไพทอนครับ\")"
      ],
      "execution_count": null,
      "outputs": []
    },
    {
      "cell_type": "markdown",
      "metadata": {
        "id": "eClqMZhQy1JV"
      },
      "source": [
        "# การรับและแสดงผลข้อมูล"
      ]
    },
    {
      "cell_type": "markdown",
      "metadata": {
        "id": "fZR6ovtLz2al"
      },
      "source": [
        "1) ฟังก์ชันรับข้อมูล  input()"
      ]
    },
    {
      "cell_type": "code",
      "metadata": {
        "id": "rqSrpiYfhbNY"
      },
      "source": [
        "a=input()\n",
        "b=input()\n",
        "print(a+b)"
      ],
      "execution_count": null,
      "outputs": []
    },
    {
      "cell_type": "markdown",
      "metadata": {
        "id": "Pim1CO_o1WVI"
      },
      "source": [
        "2) การรับค่าตัวเลข จำนวนเต็ม int()  และทศนิยม float()"
      ]
    },
    {
      "cell_type": "code",
      "metadata": {
        "id": "0GbspXnW1dut"
      },
      "source": [
        "a=int(input())\n",
        "b=float(input())\n",
        "print(a+b)"
      ],
      "execution_count": null,
      "outputs": []
    },
    {
      "cell_type": "code",
      "metadata": {
        "id": "wBjDt-wrfCi8"
      },
      "source": [
        "#สามารถใส่ข้อความในคำสั่ง input ได้\n",
        "name=input(\"กรุณาป้อนชื่อ\")\n",
        "sname=input(\"กรุณาป้อน นามสกุล\")\n",
        "print(\"สวัสดีครับคุณ\",name,sname)"
      ],
      "execution_count": null,
      "outputs": []
    },
    {
      "cell_type": "markdown",
      "metadata": {
        "id": "0HXK5dmj5VB3"
      },
      "source": [
        "3) การแสดงผลด้วยคำสั่ง print()"
      ]
    },
    {
      "cell_type": "code",
      "metadata": {
        "id": "regmUJL_frLe"
      },
      "source": [
        "a=25.254356\n",
        "b=12\n",
        "c='CCT'\n",
        "print(a,b,c)\n",
        "print(\"แสดงค่า \",a,b,c,\" นะครับ\")\n",
        "print(\"แสดงค่า a = %.2f \\t %d  \\t  %s \\n\"%(a,b,c))\n",
        "print (\"แสดงค่า {:0.3f}   {:5d}   {:s}\".format(a,b,c))"
      ],
      "execution_count": null,
      "outputs": []
    },
    {
      "cell_type": "code",
      "metadata": {
        "id": "MVoj2qNpIMXw"
      },
      "source": [
        "#ทำอย่างไรนะ ??? \n",
        "#เมื่อมีคำสั่ง print 2 คำสั่ง  อยากให้แสดงผลลัพธ์ในบรรทัดเดียวกัน จะแก้โค้ดนี้อย่างไรนะ \n",
        "print(\"พลกฤษณ์\",end='    ')\n",
        "print(\"รินทรึก\")  "
      ],
      "execution_count": null,
      "outputs": []
    },
    {
      "cell_type": "markdown",
      "metadata": {
        "id": "UZ02kC9bklHn"
      },
      "source": [
        "# ตัวดำเนินการทางคณิตศาสตร์"
      ]
    },
    {
      "cell_type": "code",
      "metadata": {
        "id": "kq5fz6eBk7EE"
      },
      "source": [
        "a = 10\n",
        "b = 3\n",
        "\n",
        "print(\"ผลบวก =\",a+b)\n",
        "print(\"ผลลบ =\",a-b)\n",
        "print(\"ผลคูณ =\",a*b)\n",
        "print(\"ผลหาร =\",a/b)\n",
        "print(\"ผลหารปัดเศษ = \",a//b)\n",
        "print(\"เศษจากการหาร = \",a%b)\n",
        "print(\"a ยกกำลังสอง = \",a**2)\n",
        "print(\"a ยกกำลัง b = \",a**b)"
      ],
      "execution_count": null,
      "outputs": []
    },
    {
      "cell_type": "code",
      "metadata": {
        "id": "HykEn8WomLlu"
      },
      "source": [
        "#1) ทำอย่างไรนะ ???\n",
        "#อยากเอาตัวแปร num มาถอดรากที่ 3    จะแก้โค้ดนี้อย่างไรนะ\n",
        "num=int(input())\n",
        "print(\"%.2f\"%num**(1/3))"
      ],
      "execution_count": null,
      "outputs": []
    },
    {
      "cell_type": "code",
      "metadata": {
        "id": "erP0MzHdmB2M"
      },
      "source": [
        "#2) ทำอย่างไรนะ ???\n",
        "#โจทย์ข้อนี้  เป็นการนำตัวเลขมาหารด้วย 5 แล้วปัดเศษทิ้ง  แล้วถ้าเราอยากให้ปัดเศษขึ้นไม่ว่าจะมีเศษเท่าไหร่เราจะแก้โค้ดนี้ยังไงนะ\n",
        "num=int(input())\n",
        "print(\"%d\"%-(-num//5))"
      ],
      "execution_count": null,
      "outputs": []
    },
    {
      "cell_type": "markdown",
      "metadata": {
        "id": "GokaB_PQxnva"
      },
      "source": [
        "# ตัวแปรชนิดข้อความ (String)  และลิสต์ (list)"
      ]
    },
    {
      "cell_type": "markdown",
      "metadata": {
        "id": "K3A8GKjvxzis"
      },
      "source": [
        "1)  เล่นกับตัวแปรแบบข้อความ String"
      ]
    },
    {
      "cell_type": "code",
      "metadata": {
        "id": "VJ-ZHcB5yE9a"
      },
      "source": [
        "name='COMPUTATIONAL'"
      ],
      "execution_count": null,
      "outputs": []
    },
    {
      "cell_type": "code",
      "metadata": {
        "id": "tuEeOb5WySlB"
      },
      "source": [
        "print(name)"
      ],
      "execution_count": null,
      "outputs": []
    },
    {
      "cell_type": "code",
      "metadata": {
        "id": "Zk4tPhLzHpKM"
      },
      "source": [
        "print(name*3)"
      ],
      "execution_count": null,
      "outputs": []
    },
    {
      "cell_type": "code",
      "metadata": {
        "id": "MH0bAzg7yaTf"
      },
      "source": [
        "print(name[2])"
      ],
      "execution_count": null,
      "outputs": []
    },
    {
      "cell_type": "code",
      "metadata": {
        "id": "jnBE1Z5Hpl7b"
      },
      "source": [
        "print(name[-3])"
      ],
      "execution_count": null,
      "outputs": []
    },
    {
      "cell_type": "code",
      "metadata": {
        "id": "7mDrX8gE0BPD"
      },
      "source": [
        "print(name[:5])"
      ],
      "execution_count": null,
      "outputs": []
    },
    {
      "cell_type": "code",
      "metadata": {
        "id": "jd4cGEdX0DqJ"
      },
      "source": [
        "print(name[2:])"
      ],
      "execution_count": null,
      "outputs": []
    },
    {
      "cell_type": "code",
      "metadata": {
        "id": "Axug9nN_ycnY"
      },
      "source": [
        "print(name[2:5])"
      ],
      "execution_count": null,
      "outputs": []
    },
    {
      "cell_type": "code",
      "metadata": {
        "id": "cXwWU5kvzNzi"
      },
      "source": [
        "print(name[2::2])"
      ],
      "execution_count": null,
      "outputs": []
    },
    {
      "cell_type": "code",
      "metadata": {
        "id": "w3qgEFv_Xorb"
      },
      "source": [
        "#ทำอย่างไรนะ ???\n",
        "#ถ้าอยากกลัวตัวอักษรจากด้านหลังมาด้านหน้า  เป็น LANOITATUPMOC  จะแก้โจทย์ด้านล่างนี้อย่างไรนะ\n",
        "s='COMPUTATIONAL'\n",
        "print(s[::-1])"
      ],
      "execution_count": null,
      "outputs": []
    },
    {
      "cell_type": "markdown",
      "metadata": {
        "id": "NZ25am-H0sxy"
      },
      "source": [
        "2) ตัวแปรแบบลิสต์ (List)"
      ]
    },
    {
      "cell_type": "code",
      "metadata": {
        "id": "agBNW4QQ2-RH"
      },
      "source": [
        "num = [2,7,6,4,6,7,9]"
      ],
      "execution_count": null,
      "outputs": []
    },
    {
      "cell_type": "code",
      "metadata": {
        "id": "U2rgH5_22_am"
      },
      "source": [
        "print(num)"
      ],
      "execution_count": null,
      "outputs": []
    },
    {
      "cell_type": "code",
      "metadata": {
        "id": "Ykgjkmq-3Ow-"
      },
      "source": [
        "print(num[2])"
      ],
      "execution_count": null,
      "outputs": []
    },
    {
      "cell_type": "code",
      "metadata": {
        "id": "R_SoqvzB3wTA"
      },
      "source": [
        "print(num[2:5])"
      ],
      "execution_count": null,
      "outputs": []
    },
    {
      "cell_type": "code",
      "metadata": {
        "id": "wVBh8EHU3h3Y"
      },
      "source": [
        "print(num[::-1])"
      ],
      "execution_count": null,
      "outputs": []
    },
    {
      "cell_type": "code",
      "metadata": {
        "id": "V2gPTPPg3T-b"
      },
      "source": [
        "print(max(num))\n",
        "print(min(num))"
      ],
      "execution_count": null,
      "outputs": []
    },
    {
      "cell_type": "code",
      "metadata": {
        "id": "unCjsKE3Ls5u"
      },
      "source": [
        "num.sort()\n",
        "print(num)"
      ],
      "execution_count": null,
      "outputs": []
    },
    {
      "cell_type": "code",
      "metadata": {
        "id": "uJwFSEFNMVUz"
      },
      "source": [
        "num.sort(reverse=True)\n",
        "print(num)"
      ],
      "execution_count": null,
      "outputs": []
    },
    {
      "cell_type": "code",
      "metadata": {
        "id": "sOO5ZpV35E5b"
      },
      "source": [
        "color=['red','green','blue','yellow','purple']\n",
        "print(color)"
      ],
      "execution_count": null,
      "outputs": []
    },
    {
      "cell_type": "code",
      "metadata": {
        "id": "fKl5RkUJ34YI"
      },
      "source": [
        "color.append('black')\n",
        "print(color)"
      ],
      "execution_count": null,
      "outputs": []
    },
    {
      "cell_type": "code",
      "metadata": {
        "id": "qlNSTAvj443f"
      },
      "source": [
        "color.insert(2,'pink')\n",
        "print(color)"
      ],
      "execution_count": null,
      "outputs": []
    },
    {
      "cell_type": "code",
      "metadata": {
        "id": "p_yOorar5_vU"
      },
      "source": [
        "color.remove('blue')\n",
        "print(color)"
      ],
      "execution_count": null,
      "outputs": []
    },
    {
      "cell_type": "code",
      "metadata": {
        "id": "JHZIqwBS6HnA"
      },
      "source": [
        "color.pop()\n",
        "print(color)"
      ],
      "execution_count": null,
      "outputs": []
    },
    {
      "cell_type": "code",
      "metadata": {
        "id": "-1U5HBpWQnty"
      },
      "source": [
        "#ทำอย่างไรนะ ???\n",
        "#ถ้าต้องการนับจำนวนตัวอักษรใน  'c' ในลิสต์ว่ามีกี่ตัว  จะแก้โค้ดนี้อย่างไรนะ\n",
        "num=['c','b','c','e','d','a','f','a','c','d']\n",
        "print(num.count('c'))"
      ],
      "execution_count": null,
      "outputs": []
    },
    {
      "cell_type": "code",
      "metadata": {
        "id": "sducC2FeqLxO"
      },
      "source": [
        "1 print(s[::-1])"
      ],
      "execution_count": null,
      "outputs": []
    },
    {
      "cell_type": "markdown",
      "metadata": {
        "id": "p0N9juJC64rF"
      },
      "source": [
        "# คำสั่งควบคุม"
      ]
    },
    {
      "cell_type": "markdown",
      "metadata": {
        "id": "5sfNgG8S68tH"
      },
      "source": [
        "1) คำสั่ง if  , if...else.... , if...elif...else...."
      ]
    },
    {
      "cell_type": "code",
      "metadata": {
        "id": "lZN9m0Gt6_vr"
      },
      "source": [
        "score=int(input(\"กรอกคะแนนสอนไพทอนของคุณ :\"))\n",
        "if score >= 20 :\n",
        "  print(\"คุณสอบผ่าน\")"
      ],
      "execution_count": null,
      "outputs": []
    },
    {
      "cell_type": "code",
      "metadata": {
        "id": "SF8-6i5N74CO"
      },
      "source": [
        "score=int(input(\"กรอกคะแนนสอนไพทอนของคุณ :\"))\n",
        "if score >= 20 :\n",
        "  print(\"คุณสอบผ่าน\")\n",
        "else: \n",
        "  print(\"คุณสอบเกือบผ่าน\")"
      ],
      "execution_count": null,
      "outputs": []
    },
    {
      "cell_type": "code",
      "metadata": {
        "id": "sbkyTRom8DGQ"
      },
      "source": [
        "score=int(input(\"กรอกคะแนนสอนไพทอนของคุณ :\"))\n",
        "if  0 <= score <= 20 :\n",
        "  print(\"คุณควรตั้งใจเรียนในคลีนิกไพทอน\")\n",
        "elif score <= 40 : \n",
        "  print(\"คุณเขียนไพทอนได้เก่งมาก\")\n",
        "elif score < 80 :\n",
        "  print(\"คุณเขียนไพทอนได้เก่งกว่า ครู@ แล้วครับ\")\n",
        "elif score == 80: \n",
        "  print(\"คุณได้เต็ม...มาสอนแทนผมเลยมา\")\n",
        "elif score <0  or  score>80 : \n",
        "  print(\"คะแนนผิดพลาด\")"
      ],
      "execution_count": null,
      "outputs": []
    },
    {
      "cell_type": "markdown",
      "metadata": {
        "id": "NN7Qjadv7Nn4"
      },
      "source": [
        "2) คำสั่ง while"
      ]
    },
    {
      "cell_type": "code",
      "metadata": {
        "id": "R7plANis7SO4"
      },
      "source": [
        "i = 1\n",
        "while i <= 10 :\n",
        "  print(i)\n",
        "  i+=1"
      ],
      "execution_count": null,
      "outputs": []
    },
    {
      "cell_type": "code",
      "metadata": {
        "id": "g_gqgtcV9kFR"
      },
      "source": [
        "i = 1\n",
        "while True:\n",
        "  print(i)\n",
        "  if ==10 : break\n",
        "  else: i+=1"
      ],
      "execution_count": null,
      "outputs": []
    },
    {
      "cell_type": "markdown",
      "metadata": {
        "id": "SmxfLfnG7TNo"
      },
      "source": [
        "3) คำสั่ง for"
      ]
    },
    {
      "cell_type": "code",
      "metadata": {
        "id": "tF0IVmnc7W3e"
      },
      "source": [
        "for i in range(10):\n",
        "  print(i)"
      ],
      "execution_count": null,
      "outputs": []
    },
    {
      "cell_type": "code",
      "metadata": {
        "id": "kDYveR4-7XL4"
      },
      "source": [
        "for i in range(1,10):\n",
        "  print(i)"
      ],
      "execution_count": null,
      "outputs": []
    },
    {
      "cell_type": "code",
      "metadata": {
        "id": "gbWxe2Dt7XpU"
      },
      "source": [
        "for i in range(1,10,3):\n",
        "  print(i)"
      ],
      "execution_count": null,
      "outputs": []
    },
    {
      "cell_type": "code",
      "metadata": {
        "id": "TQ-cvIluUoNe"
      },
      "source": [
        "#ทำอย่างไรนะ ???\n",
        "#ถ้าต้องการให้ตัวแปร i แสดงตัวเลข 10 ถึง 1  เรียงจากมากไปน้อย จะแก้โค้ดนี้อย่างไรนะ\n",
        "for i in range(10,0,-1):\n",
        "  print(i)"
      ],
      "execution_count": null,
      "outputs": []
    },
    {
      "cell_type": "markdown",
      "metadata": {
        "id": "rN-dFf0Z_Olb"
      },
      "source": [
        "# ฟังก์ชัน (Function)"
      ]
    },
    {
      "cell_type": "markdown",
      "metadata": {
        "id": "35-AMEdu_z8d"
      },
      "source": [
        "1) รู้จักตัวแปรแบบ Global  และ Local"
      ]
    },
    {
      "cell_type": "code",
      "metadata": {
        "id": "C3Mggd_G_65O"
      },
      "source": [
        "x = 10 \n",
        "def cal(num):\n",
        "  x=num\n",
        "  return x \n",
        "\n",
        "print(cal(30))\n",
        "print(x)"
      ],
      "execution_count": null,
      "outputs": []
    },
    {
      "cell_type": "code",
      "metadata": {
        "id": "FvfIG3gsAf7G"
      },
      "source": [
        "x = 10 \n",
        "def cal(num):\n",
        "  global x \n",
        "  x = num\n",
        "  return x \n",
        "\n",
        "print(cal(30))\n",
        "print(x)"
      ],
      "execution_count": null,
      "outputs": []
    },
    {
      "cell_type": "markdown",
      "metadata": {
        "id": "j9Qm6SLF_UoQ"
      },
      "source": [
        "2) ฟังก์ชันไม่คืนค่า"
      ]
    },
    {
      "cell_type": "code",
      "metadata": {
        "id": "Hcjh9KZu_a9v"
      },
      "source": [
        "def cal(a,b):\n",
        "  c=(a**2+b**2)**(1/2)\n",
        "  print(c)\n",
        "\n",
        "#เรียกใช้\n",
        "cal(12,5)"
      ],
      "execution_count": null,
      "outputs": []
    },
    {
      "cell_type": "markdown",
      "metadata": {
        "id": "ZGQA8aLO_bdd"
      },
      "source": [
        "3) ฟังก์ชันคืนค่า"
      ]
    },
    {
      "cell_type": "code",
      "metadata": {
        "id": "hhqbSQYFB9Co"
      },
      "source": [
        "def cal(a,b):\n",
        "  c=(a**2+b**2)**(1/2)\n",
        "  return c\n",
        "\n",
        "#เรียกใช้\n",
        "c=cal(12,5)\n",
        "print(c)"
      ],
      "execution_count": null,
      "outputs": []
    }
  ]
}